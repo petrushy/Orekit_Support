{
 "cells": [
  {
   "cell_type": "code",
   "execution_count": 1,
   "metadata": {},
   "outputs": [],
   "source": [
    "import orekit\n",
    "#import orekit_jpype\n",
    "orekit.initVM()\n",
    "from orekit.pyhelpers import setup_orekit_curdir, absolutedate_to_datetime\n",
    "setup_orekit_curdir(\"../orekit-data.zip\")"
   ]
  },
  {
   "cell_type": "code",
   "execution_count": 2,
   "metadata": {},
   "outputs": [],
   "source": [
    "from org.orekit.data import DataSource\n",
    "from org.orekit.data import PythonReaderOpener\n",
    "from org.orekit.python import PythonFunction\n",
    "from java.io import StringReader\n"
   ]
  },
  {
   "cell_type": "code",
   "execution_count": 3,
   "metadata": {},
   "outputs": [],
   "source": [
    "\n",
    "class MyReaderOpener(PythonReaderOpener):\n",
    "    def __init__(self, msgStr):\n",
    "        self.msgStr = msgStr\n",
    "        super(MyReaderOpener, self).__init__()\n",
    "        \n",
    "    def init(self, m):\n",
    "        pass\n",
    "\n",
    "    def openOnce(self):\n",
    "        return StringReader(self.msgStr)\n",
    "\n"
   ]
  },
  {
   "cell_type": "code",
   "execution_count": 4,
   "metadata": {},
   "outputs": [],
   "source": [
    "\n",
    "objectOMM = '<?xml version=\"1.0\" encoding=\"utf-8\"?><ndm xmlns:xsi=\"http://www.w3.org/2001/XMLSchema-instance\" xsi:noNamespaceSchemaLocation=\"https://sanaregistry.org/r/ndmxml_unqualified/ndmxml-3.0.0-master-3.0.xsd\"><omm id=\"CCSDS_OMM_VERS\" version=\"3.0\"><header><COMMENT>GENERATED VIA SPACE-TRACK.ORG API</COMMENT><CREATION_DATE>2024-06-13T02:09:14</CREATION_DATE><ORIGINATOR>18 SPCS</ORIGINATOR></header><body><segment><metadata><OBJECT_NAME>STARLINK-31207</OBJECT_NAME><OBJECT_ID>2024-038N</OBJECT_ID><CENTER_NAME>EARTH</CENTER_NAME><REF_FRAME>TEME</REF_FRAME><TIME_SYSTEM>UTC</TIME_SYSTEM><MEAN_ELEMENT_THEORY>SGP4</MEAN_ELEMENT_THEORY></metadata><data><meanElements><EPOCH>2024-06-12T07:08:39.506208</EPOCH><MEAN_MOTION>15.25907591</MEAN_MOTION><ECCENTRICITY>0.00019410</ECCENTRICITY><INCLINATION>43.0019</INCLINATION><RA_OF_ASC_NODE>8.4567</RA_OF_ASC_NODE><ARG_OF_PERICENTER>268.8898</ARG_OF_PERICENTER><MEAN_ANOMALY>91.1730</MEAN_ANOMALY></meanElements><tleParameters><EPHEMERIS_TYPE>0</EPHEMERIS_TYPE><CLASSIFICATION_TYPE>U</CLASSIFICATION_TYPE><NORAD_CAT_ID>59035</NORAD_CAT_ID><ELEMENT_SET_NO>999</ELEMENT_SET_NO><REV_AT_EPOCH>1772</REV_AT_EPOCH><BSTAR>-0.00011876000000</BSTAR><MEAN_MOTION_DOT>-0.00003363</MEAN_MOTION_DOT><MEAN_MOTION_DDOT>0.0000000000000</MEAN_MOTION_DDOT></tleParameters><userDefinedParameters><USER_DEFINED parameter=\"SEMIMAJOR_AXIS\">6866.198</USER_DEFINED><USER_DEFINED parameter=\"PERIOD\">94.370</USER_DEFINED><USER_DEFINED parameter=\"APOAPSIS\">489.396</USER_DEFINED><USER_DEFINED parameter=\"PERIAPSIS\">486.731</USER_DEFINED><USER_DEFINED parameter=\"OBJECT_TYPE\">PAYLOAD</USER_DEFINED><USER_DEFINED parameter=\"RCS_SIZE\">LARGE</USER_DEFINED><USER_DEFINED parameter=\"COUNTRY_CODE\">US</USER_DEFINED><USER_DEFINED parameter=\"LAUNCH_DATE\">2024-02-25</USER_DEFINED><USER_DEFINED parameter=\"SITE\">AFETR</USER_DEFINED><USER_DEFINED parameter=\"DECAY_DATE\">unknown</USER_DEFINED><USER_DEFINED parameter=\"FILE\">4343479</USER_DEFINED><USER_DEFINED parameter=\"GP_ID\">259443997</USER_DEFINED></userDefinedParameters></data></segment></body></omm></ndm>'\n"
   ]
  },
  {
   "cell_type": "code",
   "execution_count": 29,
   "metadata": {},
   "outputs": [],
   "source": [
    "\n",
    "from org.orekit.data import DataSource\n",
    "from org.orekit.files.ccsds.ndm import ParserBuilder\n",
    "from org.orekit.files.ccsds.ndm import Ndm\n",
    "from org.orekit.files.ccsds.ndm.odm.omm import Omm\n",
    "from org.orekit.files.ccsds.utils.lexical import ParseToken\n",
    "from typing import List\n",
    "from java.util import Collections"
   ]
  },
  {
   "cell_type": "code",
   "execution_count": 40,
   "metadata": {},
   "outputs": [],
   "source": [
    "class MyFilter(PythonFunction):\n",
    "    def apply(self, token: ParseToken) -> List[ParseToken]:    \n",
    "        return Collections.singletonList(token)\n",
    "    "
   ]
  },
  {
   "cell_type": "code",
   "execution_count": 41,
   "metadata": {},
   "outputs": [],
   "source": [
    "myFilt = MyFilter()\n",
    "parser = ParserBuilder().withFilter(myFilt)\n",
    "ndmparser = parser.buildNdmParser()"
   ]
  },
  {
   "cell_type": "code",
   "execution_count": 42,
   "metadata": {},
   "outputs": [
    {
     "data": {
      "text/plain": [
       "JArray<object>[<Function: org.orekit.python.PythonFunction@4088741b>]"
      ]
     },
     "execution_count": 42,
     "metadata": {},
     "output_type": "execute_result"
    }
   ],
   "source": [
    "parser.getFilters()"
   ]
  },
  {
   "cell_type": "code",
   "execution_count": 44,
   "metadata": {},
   "outputs": [
    {
     "data": {
      "text/plain": [
       "<TLE: 1 59035U 24038N   24164.29767947 -.00001682  00000-0 -11876-3 0  9992\n",
       "2 59035  43.0019   8.4567 0001941 268.8898  91.1730 15.25907591 17727>"
      ]
     },
     "execution_count": 44,
     "metadata": {},
     "output_type": "execute_result"
    }
   ],
   "source": [
    "ro = MyReaderOpener(objectOMM)\n",
    "ds = DataSource(\"ommProvider\", MyReaderOpener(objectOMM))\n",
    "msg = ndmparser.parseMessage(ds)\n",
    "ndmMsg = Ndm.cast_(msg)\n",
    "OMM = [Omm.cast_(OMMentry) for OMMentry in ndmMsg.getConstituents()]\n",
    "tle = OMM[0].generateTLE()\n",
    "tle"
   ]
  },
  {
   "cell_type": "code",
   "execution_count": null,
   "metadata": {},
   "outputs": [],
   "source": []
  }
 ],
 "metadata": {
  "kernelspec": {
   "display_name": "scipy312",
   "language": "python",
   "name": "python3"
  },
  "language_info": {
   "codemirror_mode": {
    "name": "ipython",
    "version": 3
   },
   "file_extension": ".py",
   "mimetype": "text/x-python",
   "name": "python",
   "nbconvert_exporter": "python",
   "pygments_lexer": "ipython3",
   "version": "3.12.3"
  }
 },
 "nbformat": 4,
 "nbformat_minor": 2
}
