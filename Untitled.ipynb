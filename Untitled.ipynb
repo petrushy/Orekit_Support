{
 "cells": [
  {
   "cell_type": "code",
   "execution_count": 1,
   "id": "544d385a-b7a8-438e-8672-eb70d222a483",
   "metadata": {},
   "outputs": [
    {
     "data": {
      "text/plain": [
       "<jcc.JCCEnv at 0x7f3158e8fab0>"
      ]
     },
     "execution_count": 1,
     "metadata": {},
     "output_type": "execute_result"
    }
   ],
   "source": [
    "import orekit\n",
    "orekit.initVM()"
   ]
  },
  {
   "cell_type": "code",
   "execution_count": 3,
   "id": "2a555644-a0f6-47ae-a43a-d144d4f90e21",
   "metadata": {},
   "outputs": [],
   "source": [
    "from orekit.pyhelpers import download_orekit_data_curdir, setup_orekit_curdir\n",
    "#download_orekit_data_curdir()"
   ]
  },
  {
   "cell_type": "code",
   "execution_count": 4,
   "id": "aae73b59-a366-488c-b8cd-cecbf8de8742",
   "metadata": {},
   "outputs": [],
   "source": [
    "setup_orekit_curdir()"
   ]
  },
  {
   "cell_type": "code",
   "execution_count": 7,
   "id": "ccc207d6-29aa-4425-b847-b077e0e338a3",
   "metadata": {},
   "outputs": [],
   "source": [
    "from org.orekit.time import AbsoluteDate, TimeScalesFactory"
   ]
  },
  {
   "cell_type": "code",
   "execution_count": 8,
   "id": "5c6e4f5c-392f-449f-9839-d5cef8d31ab7",
   "metadata": {},
   "outputs": [
    {
     "data": {
      "text/plain": [
       "<AbsoluteDate: 1999-12-31T23:59:28.000Z>"
      ]
     },
     "execution_count": 8,
     "metadata": {},
     "output_type": "execute_result"
    }
   ],
   "source": [
    "AbsoluteDate(2000, 1,1, 0, 0, 0.0, TimeScalesFactory.getTAI())"
   ]
  },
  {
   "cell_type": "code",
   "execution_count": 9,
   "id": "9225c216-3d18-4902-b277-f4d039a2540c",
   "metadata": {},
   "outputs": [
    {
     "data": {
      "text/plain": [
       "<AbsoluteDate: 2000-01-01T00:00:00.000Z>"
      ]
     },
     "execution_count": 9,
     "metadata": {},
     "output_type": "execute_result"
    }
   ],
   "source": [
    "AbsoluteDate(2000, 1,1, 0, 0, 0.0, TimeScalesFactory.getUTC())"
   ]
  },
  {
   "cell_type": "code",
   "execution_count": 10,
   "id": "32801668-e152-494a-8faa-c5ed5950aecf",
   "metadata": {},
   "outputs": [
    {
     "data": {
      "text/plain": [
       "<AbsoluteDate: 2000-01-01T11:58:55.816Z>"
      ]
     },
     "execution_count": 10,
     "metadata": {},
     "output_type": "execute_result"
    }
   ],
   "source": [
    "AbsoluteDate(year=2000, month=1, day=1, hour=0, minute=0, second=0.0, timeScale=TimeScalesFactory.getTAI())"
   ]
  },
  {
   "cell_type": "code",
   "execution_count": 23,
   "id": "235a8121-2a82-4349-b7a6-d606546cb796",
   "metadata": {},
   "outputs": [
    {
     "data": {
      "text/plain": [
       "<AbsoluteDate: 2000-01-01T11:58:55.816Z>"
      ]
     },
     "execution_count": 23,
     "metadata": {},
     "output_type": "execute_result"
    }
   ],
   "source": [
    "AbsoluteDate(frogs=2023, month=1, day=1, hoursf=0, minute=0, second=0.0, timeScale=TimeScalesFactory.getTAI())"
   ]
  },
  {
   "cell_type": "code",
   "execution_count": 27,
   "id": "f7f44e72-3957-46d5-80d8-0e084ebe7dc7",
   "metadata": {},
   "outputs": [
    {
     "data": {
      "text/plain": [
       "<AbsoluteDate: 2000-01-01T11:58:55.816Z>"
      ]
     },
     "execution_count": 27,
     "metadata": {},
     "output_type": "execute_result"
    }
   ],
   "source": [
    "AbsoluteDate.J2000_EPOCH"
   ]
  },
  {
   "cell_type": "code",
   "execution_count": 28,
   "id": "edd137a2-a171-4a02-a20a-ce909ba41189",
   "metadata": {},
   "outputs": [
    {
     "data": {
      "text/plain": [
       "<AbsoluteDate: 2000-01-01T11:58:55.816Z>"
      ]
     },
     "execution_count": 28,
     "metadata": {},
     "output_type": "execute_result"
    }
   ],
   "source": [
    "AbsoluteDate()"
   ]
  },
  {
   "cell_type": "code",
   "execution_count": null,
   "id": "082269c5-1567-45f3-bcab-b7a12dbc269c",
   "metadata": {},
   "outputs": [],
   "source": []
  }
 ],
 "metadata": {
  "kernelspec": {
   "display_name": "Python 3 (ipykernel)",
   "language": "python",
   "name": "python3"
  },
  "language_info": {
   "codemirror_mode": {
    "name": "ipython",
    "version": 3
   },
   "file_extension": ".py",
   "mimetype": "text/x-python",
   "name": "python",
   "nbconvert_exporter": "python",
   "pygments_lexer": "ipython3",
   "version": "3.11.4"
  }
 },
 "nbformat": 4,
 "nbformat_minor": 5
}
